{
 "cells": [
  {
   "cell_type": "code",
   "execution_count": 2,
   "id": "c2aeb82a",
   "metadata": {},
   "outputs": [],
   "source": [
    "import drink_recommender_driver"
   ]
  },
  {
   "cell_type": "code",
   "execution_count": null,
   "id": "ed92a0ba",
   "metadata": {},
   "outputs": [],
   "source": [
    "drink_recommender_driver.drink_recommendation_test()"
   ]
  }
 ],
 "metadata": {
  "kernelspec": {
   "display_name": "Python 3 (ipykernel)",
   "language": "python",
   "name": "python3"
  },
  "language_info": {
   "codemirror_mode": {
    "name": "ipython",
    "version": 3
   },
   "file_extension": ".py",
   "mimetype": "text/x-python",
   "name": "python",
   "nbconvert_exporter": "python",
   "pygments_lexer": "ipython3",
   "version": "3.9.13"
  }
 },
 "nbformat": 4,
 "nbformat_minor": 5
}
