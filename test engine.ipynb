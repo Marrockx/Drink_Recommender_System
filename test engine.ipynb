{
 "cells": [
  {
   "cell_type": "code",
   "execution_count": 1,
   "id": "c2aeb82a",
   "metadata": {},
   "outputs": [],
   "source": [
    "import drink_recommender_driver"
   ]
  },
  {
   "cell_type": "code",
   "execution_count": 2,
   "id": "ed92a0ba",
   "metadata": {},
   "outputs": [
    {
     "name": "stdout",
     "output_type": "stream",
     "text": [
      "doing proof\n",
      "Here are some categories of drinks you might like:\n",
      "______________________________________________________________________________\n",
      "______________________________________________________________________________\n",
      "______________________________________________________________________________\n",
      "Thank goodness\n",
      "You might $ like Energy drinks.\n",
      "Here are some of Energy drinks you should try:\n",
      "\n",
      "0. Fearless\n",
      "\n",
      "1. Predator\n",
      "\n",
      "done\n"
     ]
    }
   ],
   "source": [
    "drink_recommender_driver.drink_recommendation_test()"
   ]
  },
  {
   "cell_type": "code",
   "execution_count": null,
   "id": "903b7177",
   "metadata": {},
   "outputs": [],
   "source": []
  }
 ],
 "metadata": {
  "kernelspec": {
   "display_name": "Python 3 (ipykernel)",
   "language": "python",
   "name": "python3"
  },
  "language_info": {
   "codemirror_mode": {
    "name": "ipython",
    "version": 3
   },
   "file_extension": ".py",
   "mimetype": "text/x-python",
   "name": "python",
   "nbconvert_exporter": "python",
   "pygments_lexer": "ipython3",
   "version": "3.9.13"
  }
 },
 "nbformat": 4,
 "nbformat_minor": 5
}
