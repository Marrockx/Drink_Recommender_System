{
 "cells": [
  {
   "cell_type": "code",
   "execution_count": 1,
   "id": "c2aeb82a",
   "metadata": {},
   "outputs": [],
   "source": [
    "import drink_recommender_driver"
   ]
  },
  {
   "cell_type": "code",
   "execution_count": 3,
   "id": "ed92a0ba",
   "metadata": {},
   "outputs": [
    {
     "name": "stdout",
     "output_type": "stream",
     "text": [
      "doing proof\n",
      "______________________________________________________________________________\n",
      "What time of the day?\n",
      "  1. morning\n",
      "  2. afternoon\n",
      "  3. night\n",
      "? [1-3] 2\n",
      "______________________________________________________________________________\n",
      "How old are you ?\n",
      "  1. 1 - 17\n",
      "  2. 18 and above  \n",
      "? [1-2] 2\n",
      "you are an adult\n",
      "______________________________________________________________________________\n",
      "What health issues do you currently have?\n",
      "  1. Diabetes\n",
      "  2. Lactose intolerance\n",
      "  3. None of the above\n",
      "? [1-3] 3\n",
      "You do not have any of the listed conditions.\n",
      "______________________________________________________________________________\n",
      "Do you want an alcoholic drink? (y/n) yes\n",
      "So you want an alcoholic drink\n",
      "('Star Larger', 'Goldberg', 'Guinness Stout', 'Gulder', 'Heineken') {'drinks': ('Star Larger', 'Goldberg', 'Guinness Stout', 'Gulder', 'Heineken')}\n",
      "('Viju Milk', 'Fresh Yo', ' Peak Milk') {'drinks': ('Viju Milk', 'Fresh Yo', ' Peak Milk')}\n",
      "\n",
      "done\n"
     ]
    }
   ],
   "source": [
    "drink_recommender_driver.drink_recommendation_test()"
   ]
  },
  {
   "cell_type": "code",
   "execution_count": null,
   "id": "903b7177",
   "metadata": {},
   "outputs": [],
   "source": []
  }
 ],
 "metadata": {
  "kernelspec": {
   "display_name": "Python 3 (ipykernel)",
   "language": "python",
   "name": "python3"
  },
  "language_info": {
   "codemirror_mode": {
    "name": "ipython",
    "version": 3
   },
   "file_extension": ".py",
   "mimetype": "text/x-python",
   "name": "python",
   "nbconvert_exporter": "python",
   "pygments_lexer": "ipython3",
   "version": "3.9.13"
  }
 },
 "nbformat": 4,
 "nbformat_minor": 5
}
